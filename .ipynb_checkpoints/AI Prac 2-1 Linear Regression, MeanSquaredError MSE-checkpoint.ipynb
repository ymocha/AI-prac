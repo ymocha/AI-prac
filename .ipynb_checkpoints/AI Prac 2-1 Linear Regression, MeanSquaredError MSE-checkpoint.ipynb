{
 "cells": [
  {
   "cell_type": "code",
   "execution_count": 8,
   "id": "865f8f49",
   "metadata": {},
   "outputs": [
    {
     "name": "stdout",
     "output_type": "stream",
     "text": [
      "공부한 시간=2, 실제 점수=81, 예측 점수= 82\n",
      "공부한 시간=4, 실제 점수=93, 예측 점수= 88\n",
      "공부한 시간=6, 실제 점수=91, 예측 점수= 94\n",
      "공부한 시간=8, 실제 점수=97, 예측 점수= 100\n",
      "mse 최종값: 11.0\n"
     ]
    }
   ],
   "source": [
    "# 선형회귀(Linear regression)\n",
    "# x값이 하나일 때. (독립변수, feature)\n",
    "# 최소제곱법을 활용하여 기울기와 절편을 구한다. (method of least squares)\n",
    "# 최소제곱법으로 그린 곡선이 실제 값과 가장 적은 예상값을 도출해 내 준다.\n",
    "\n",
    "# 평균 제곱 오차(mean squared error, MSE)\n",
    "# 여러개의 x를 가질 때 \"일단, 그리고 조금씩 수정해 나가기\" 방식\n",
    "# 선형 회귀란 임의의 직선을 그어 이에 대한 평균 제곱 오차를 구하고, 이 값을 가장 작게 만들어주는 a, b를 찾아가는 작업.\n",
    "\n",
    "\n",
    "# 선형회귀 실습 \n",
    "import numpy as np\n",
    "\n",
    "# 임의로 지정한 기울기와 절편\n",
    "fake_a_b = [3, 76]\n",
    "\n",
    "# x, y의 데이터 값\n",
    "data = [[2, 81], [4, 93], [6, 91], [8, 97]]\n",
    "x = [i[0] for i in data]\n",
    "y = [i[1] for i in data]\n",
    "\n",
    "def predict(x):\n",
    "    return fake_a_b[0]*x + fake_a_b[1]\n",
    "\n",
    "def mse(y, y_hat):\n",
    "    return((y-y_hat)**2).mean()\n",
    "           \n",
    "def mse_val(y, predict_result):\n",
    "           return mse(np.array(y), np.array(predict_result))\n",
    "           \n",
    "predict_result = []\n",
    "           \n",
    "for i in range(len(x)):\n",
    "           predict_result.append(predict(x[i]))\n",
    "           print(\"공부한 시간=%.f, 실제 점수=%.f, 예측 점수= %.f\" % (x[i], y[i], predict(x[i])))\n",
    "           \n",
    "print(\"mse 최종값: \" + str(mse_val(predict_result, y)))"
   ]
  },
  {
   "cell_type": "markdown",
   "id": "37616bb7",
   "metadata": {},
   "source": [
    "남은 것은 오차가 최소화되는 a,b값을 구하는 것. 경사하강법!!!"
   ]
  }
 ],
 "metadata": {
  "kernelspec": {
   "display_name": "Python 3 (ipykernel)",
   "language": "python",
   "name": "python3"
  },
  "language_info": {
   "codemirror_mode": {
    "name": "ipython",
    "version": 3
   },
   "file_extension": ".py",
   "mimetype": "text/x-python",
   "name": "python",
   "nbconvert_exporter": "python",
   "pygments_lexer": "ipython3",
   "version": "3.8.11"
  }
 },
 "nbformat": 4,
 "nbformat_minor": 5
}
