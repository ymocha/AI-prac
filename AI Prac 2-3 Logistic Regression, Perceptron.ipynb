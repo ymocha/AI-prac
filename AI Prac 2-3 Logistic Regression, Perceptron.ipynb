{
 "cells": [
  {
   "cell_type": "code",
   "execution_count": null,
   "id": "bc6ef44b",
   "metadata": {},
   "outputs": [],
   "source": [
    "#2-3 Logistic Regression\n",
    "#Yes or No / True or False\n",
    "#Sigmoid "
   ]
  },
  {
   "cell_type": "code",
   "execution_count": null,
   "id": "cafa6ba2",
   "metadata": {
    "scrolled": false
   },
   "outputs": [],
   "source": [
    "import numpy as np\n",
    "import pandas as pd\n",
    "import matplotlib.pyplot as plt\n",
    "\n",
    "# 공부시간 X와 합격 여부 Y의 리스트 만들기\n",
    "data = [[2,0],[4,0],[6,0],[8,1],[10,1],[12,1],[14,1]]\n",
    "\n",
    "x_data = [i[0] for i in data]\n",
    "y_data = [i[1] for i in data]\n",
    "\n",
    "# 그래프로 나타내기\n",
    "plt.scatter(x_data, y_data)\n",
    "plt.xlim(0,15)\n",
    "plt.ylim(-.1, 1.1)\n",
    "\n",
    "# 기울기 a와 절편 b의 값 초기화\n",
    "a = 0\n",
    "b = 0\n",
    "\n",
    "# 학습률\n",
    "lr = 0.05\n",
    "\n",
    "# 시그모이드 함수 정의\n",
    "def sigmoid(x):\n",
    "    return 1/ (1 + np.e **(-x))\n",
    "\n",
    "# 경사하강법 실행\n",
    "# 1000번 반복될 때마다 각 x_data 값에 대한 현재의 a값, b값 출력\n",
    "for i in range(2001):\n",
    "    for x_data, y_data in data:\n",
    "        a_diff = x_data*(sigmoid(a*x_data + b) - y_data)\n",
    "        b_diff = sigmoid(a* x_data + b) - y_data\n",
    "        a = a - lr * a_diff\n",
    "        b = b - lr * b_diff\n",
    "        if i % 1000 == 0:\n",
    "            print(\"epoch=%.f, 기울기%0.04f, 절편=%.04f\" % (i, a, b))\n",
    "            \n",
    "    # 앞서 구한 기울기와 절편을 이용해 그래프 그리기\n",
    "    plt.scatter(x_data, y_data)\n",
    "    plt.xlim(0, 15)\n",
    "    plt.ylim(-.1, 1.1)\n",
    "    x_range = (np.arange(0, 15, 0.1))\n",
    "    plt.plot(np.arange(0, 15, 0.1), np.array([sigmoid(a * x + b) for x in x_range]))\n",
    "    plt.show()"
   ]
  },
  {
   "cell_type": "code",
   "execution_count": null,
   "id": "af22f7c1",
   "metadata": {},
   "outputs": [],
   "source": [
    "epoch=2000, 기울기1.9065, 절편=-12.9489\n",
    "epoch=2000, 기울기1.9055, 절편=-12.9491\n",
    "epoch=2000, 기울기1.8515, 절편=-12.9581\n",
    "epoch=2000, 기울기1.9057, 절편=-12.9514\n",
    "epoch=2000, 기울기1.9068, 절편=-12.9513\n",
    "epoch=2000, 기울기1.9068, 절편=-12.9513\n",
    "epoch=2000, 기울기1.9068, 절편=-12.9513"
   ]
  },
  {
   "cell_type": "markdown",
   "id": "58ce3386",
   "metadata": {},
   "source": [
    "(정리)퍼셉트론 perceptron\n",
    "y = a1 * x1 + a2 * x2 + b 입력값 x에 가중치 a를 곱한 뒤 b를 더한 후\n",
    "시그모이드 함수를 거쳐 출력 값 0 또는 1 y를 얻는다.\n",
    "이를 퍼셉트론이라고 함 "
   ]
  }
 ],
 "metadata": {
  "kernelspec": {
   "display_name": "Python 3 (ipykernel)",
   "language": "python",
   "name": "python3"
  },
  "language_info": {
   "codemirror_mode": {
    "name": "ipython",
    "version": 3
   },
   "file_extension": ".py",
   "mimetype": "text/x-python",
   "name": "python",
   "nbconvert_exporter": "python",
   "pygments_lexer": "ipython3",
   "version": "3.8.11"
  }
 },
 "nbformat": 4,
 "nbformat_minor": 5
}
